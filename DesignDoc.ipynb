{
 "cells": [
  {
   "cell_type": "markdown",
   "metadata": {},
   "source": [
    "# Game Idea Notebook\n",
    "\n",
    "Turn based JRPG combat mech game\n",
    "\n",
    "Mechs have \"parts\" that give them \"moves\" as well as standard effects.\n",
    "\n"
   ]
  },
  {
   "cell_type": "markdown",
   "metadata": {},
   "source": [
    "### H.A.F.s:\n",
    "\n",
    "Human Augmentation Frames (H.A.F.s or Halves) are the primary fighting machines used in the inter-faction conflicts throughout the Solar Remnant. Adopted in the second era of human expansion due to the massive increase in solar activity after the dyson sphere collapse. The increased solar radiation interferes with long range optical technologies making ship to ship combat largely impractical. Over time the military culture grew from seeing these as simple tanks to extensions of the pilots self.\n",
    "\n",
    "While H.A.F. components are largely compatible, they require an enormous amount of time energy and resources to fit them together. Building a new machine is a large undertaking and parts aren't swapped frequently.\n",
    "\n",
    "- Head, - Mainly Info Gathering\n",
    "- Core(?), - Mainly Defense\n",
    "- Aux Weaponry - Any\n",
    "- Arms - ?? what r these even for\n",
    "- Primary Weaponry - Mainly Attack\n",
    "- Legs, - Mobility\n",
    "- Generator, - EN Output\n",
    "- Pilot - Bonuses\n",
    "\n",
    "You need all slots filled (except for weaponry) to complete mech, but not all parts will supply moves or special effects. Each component uses a certain amt of energy."
   ]
  },
  {
   "cell_type": "markdown",
   "metadata": {},
   "source": [
    "### Standard H.A.F. Stats:\n",
    "Integrity - Total Health, Defaults to 100\n",
    "\n",
    "- Defense - Decreases Incoming Damage Some Weapons Scale With Defense   \n",
    "    - Range: 0 - 50\n",
    "- Speed - Turn Order Some Weapons Scale With Speed\n",
    "    - Range: 0 - 50\n",
    "\n",
    "In general speed and defense have an inverse relationship.\n",
    "\n",
    "- Capacity - Energy/Weight capacity condensed to one stat, most machines will generally land between 4-12 capacity\n",
    "- Output - Attack modifier\n",
    "    - Range: 0-50\n",
    "    - 25 Output is 100% attack power anything more or less modifies attack\n",
    "\n",
    "capacity and output tend to have an inverse relationship.\n",
    "\n",
    "Optional Stats for components:\n",
    "- Ammo: number of times a move can be used per encounter similar to pokemon's PP.\n",
    "\n",
    "Per Encounter Stats:\n",
    "- Accuracy - Affects hit chances"
   ]
  },
  {
   "cell_type": "markdown",
   "metadata": {},
   "source": [
    "### Example H.A.F. Builds:\n",
    "\n",
    "#### H.A.F. 1:\n",
    "\n",
    "Name: Coquette\n",
    "\n",
    "Description: A versatile craft built for engagements with high output targets. Built to get close, avoid damage and hit vital points. Its playful and up close nature has led to it being described as \"flirty.\"\n",
    "\n",
    "- Head - Enhanced Scanners:\n",
    "  - Cost 1\n",
    "  - Move: Reveal enemy component information\n",
    "- Core - Stripped Down Frame:\n",
    "  - Defense: 5\n",
    "  - Speed: 14\n",
    "  - Capacity Supply: 5\n",
    "  - Output: 20\n",
    "- Arms - Surplus Arms:\n",
    "  - Description: These things are essentially free\n",
    "  - Cost: 1\n",
    "  - Defense: 1\n",
    "  - Speed: 2\n",
    "- Legs - High Mobility Legs:\n",
    "  - Cost: 1\n",
    "  - Effect: Increased Base Speed\n",
    "  - Move: Active Boost Calibration, increase base speed by 4 with a chance to avoid or reduce enemy attack\n",
    "  - Move Description: The details of a battlefield can never be predicted, responsive tuning of the thruster systems is often required to achieve the highest speeds available to H.A.F.s\n",
    "  - Defense: 5\n",
    "  - Speed: 12\n",
    "- Primary Weaponry - Dual Machine Guns\n",
    "  - Description: The high rate of fire and armor piercing rounds allow these to make fast work of enemy combatants, the fire rate come at the cost of quickly depleted ammo leading these to be known as suicide guns among pilots.\n",
    "  - Cost: 2\n",
    "  - Move: Evasive Attack, an Attack that Scales with speed as well as output.\n",
    "  - Move Description: The machine closes distance rapidly and aggressively attacks its target. Dodging and weaving to keep its fire focused on critical points.\n",
    "  - Base Attack: 25\n",
    "  - Ammunition: 5\n",
    "  - Scaling: `((baseAttack) + ((baseAttack) * (speed)/25)) * output/25` (rounded)\n",
    "- Aux Weaponry - None\n",
    "- Pilot: Cat-Eye\n",
    "\n",
    "Total Stats:\n",
    "\n",
    "Integrity: 100\n",
    "\n",
    "Usage/Capacity: 4/4\n",
    "\n",
    "Output: 26\n",
    "\n",
    "Defense: 11\n",
    "\n",
    "Base Speed: 28\n"
   ]
  },
  {
   "cell_type": "code",
   "execution_count": 16,
   "metadata": {
    "dotnet_interactive": {
     "language": "javascript"
    },
    "polyglot_notebook": {
     "kernelName": "javascript"
    }
   },
   "outputs": [
    {
     "name": "stdout",
     "output_type": "stream",
     "text": [
      "Attack total: 55\n",
      "Maximum possible: 78\n"
     ]
    }
   ],
   "source": [
    "# Evasive Attack calculation example\n",
    "\n",
    "integrity = 100\n",
    "defense = 10\n",
    "baseAttack = 25\n",
    "speed = 28\n",
    "output = 26\n",
    "\n",
    "def speedAttackTotal(baseAttack, speed, output):\n",
    "    return round((baseAttack + (baseAttack * speed/25)) * (output/25))\n",
    "\n",
    "print(\"Attack total:\", speedAttackTotal(baseAttack, speed, output))\n",
    "\n",
    "print(\"Maximum possible:\", speedAttackTotal(baseAttack, 50, output))\n"
   ]
  },
  {
   "cell_type": "markdown",
   "metadata": {},
   "source": [
    "#### H.A.F. 2:\n",
    "\n",
    "Name: Rough Play\n",
    "\n",
    "Description: Originally built for space combat and to be piloted exclusively by disposable pilot cores, this machine fights by throwing its mass at its opponent, using its extremely heavily fortified head to tear through an enemy.\n",
    "\n",
    "- Head - Hammerhead\n",
    "    - Cost: 2\n",
    "    - Base Attack: 10\n",
    "    - Move: Heavy Hitter, an attack that scales directly with defense\n",
    "    - Scaling: `(baseAttack + defense) * output/25`\n",
    "- Core - Reinforced shell\n",
    "    - Defense: 20\n",
    "    - Speed: 2\n",
    "    - Capacity Supply: 6\n",
    "- Arms - Shield Arms\n",
    "    - Cost: 2\n",
    "    - Defense: 3\n",
    "    - Speed: 0\n",
    "- Legs - High Power Thrusters\n",
    "    - Cost: 1\n",
    "    - Speed: 4\n",
    "    - Defense: 5\n",
    "- Primary Weaponry - None\n",
    "    - Move: Unarmed Attack\n",
    "    - Base Attack: 4\n",
    "- Aux Weaponry - Magnetic Coils\n",
    "    - Move: Junker Fortification, Increase defense by 3-6 points.\n",
    "    - Move Description: Energy is briefly diverted to the magnetic coils in the H.A.F.s back, pulling and magnetizing nearby debris.\n",
    "- Pilot - Tacoma Narrows\n",
    "\n",
    "Total Stats:\n",
    "\n",
    "Integrity: 100\n",
    "\n",
    "Usage/Capacity: \n",
    "\n",
    "Defense: 28\n",
    "\n",
    "Speed: 6"
   ]
  },
  {
   "cell_type": "markdown",
   "metadata": {},
   "source": [
    "### Pilots\n",
    "Due to the increased solar interference computers capable of complex AI functionality are far to large to be fitted inside a H.A.F. This means all machines require a biological pilot. \n",
    "\n",
    "#### Human Pilots\n",
    "The advanced reflex requirements of piloting H.A.F.s as well as the strenuous emotional demands of combat require extensive modification to a human pilot. The high cost of human modification means most pilots are in debt to their handler or organization, and treated as indentured servants.\n",
    "\n",
    "Human modification tends to consist of brain augmentation as well as fine tuned control of the endocrine system and neurotransmitters. This is non reversible.\n",
    "\n",
    "Pilots will often perform unauthorized alterations to their modifications either for combat prowess or personal reasons. This is an open secret amongst pilots and their colleagues.\n",
    "\n",
    "#### Pilot Cores\n",
    "Another option to fill the biological requirement is a pilot core, eg the functional parts of a human, grown or harvested and hard wired into a cockpit. Pilot cores tend to develop more sapient qualities over time and need to be re-calibrated or destroyed. Due to the debt system not applying to these semi biological machines human pilots are often preferred.\n",
    "\n",
    "Sapient pilots tend to sync with their H.A.F.s over time and loss of a mech in combat or to logistical reshuffling may cause serious emotional distress.\n"
   ]
  },
  {
   "cell_type": "markdown",
   "metadata": {},
   "source": [
    "### Pilot Stats:\n",
    "\n",
    "- Stress - Scalar for pilot effects (High stress increases negative effects and reduces positive ones)\n",
    "\n",
    "Ones I'm Considering:\n",
    "- Obedience - Pilots with reduced obedience will refuse to perform moves, and at very low levels may perform moves against allies.\n",
    "    - Range: 0-150\n",
    "    - Obedience above 100 has no effect but acts as padding against situations that could lower obedience.\n",
    "- Debt - Debt acts as a clock that ticks towards zero, once a pilots debt reaches zero it will be deploying them will have increased \n",
    "\n",
    "A pilots main role stats wise is to supply bonus effects/stat modifications. These can have a wide variety of effects."
   ]
  },
  {
   "cell_type": "markdown",
   "metadata": {},
   "source": [
    "### Example Pilots\n",
    "\n",
    "These are some rlly rough examples, v work in progress.\n",
    "\n",
    "#### Pilot 1:\n",
    "- Callsign: Cat-Eye\n",
    "- Debt: 200\n",
    "- Obedience: 110\n",
    "- Description: Discovered after an attack during the lunar independence war, she was raised in a military orphanage before being given the choice of pilot augmentation, or factory labor. She opted for pilot enhancement, as its promises of pay and glory were enticing. She has her own reasons too...\n",
    "- Effects: \n",
    "    - Perfect accuracy, cat eye underwent experimental eye surgery and reflex surgery allowing her to remain perfectly accurate even under the extreme pressure. Most of her vision is in the infrared range.\n",
    "        - Accuracy is always maxed out and can't be reduced by enemy moves\n",
    "    - Highly Unstable, as an effect of repeated untested modification she is highly irritable and prone to rapid drops in obedience\n",
    "        - Damages to obedience have are multiplied by 2\n",
    "\n",
    "#### Pilot 2:\n",
    "- Callsign: Tacoma Narrows\n",
    "- Debt: 100\n",
    "- Obedience: Was forced into pilot enhancement after being arrested on smuggling charges. His only source of relaxation is combat, partially due to his outlook on life and partially due to his poorly installed neurotransmitter management system.\n",
    "- Effects:\n",
    "    - Reckless: No debuffs taken for high stress. This pilot cannot be recovered if their mech is destroyed.\n"
   ]
  },
  {
   "cell_type": "markdown",
   "metadata": {},
   "source": []
  }
 ],
 "metadata": {
  "kernelspec": {
   "display_name": "Python 3",
   "language": "python",
   "name": "python3"
  },
  "language_info": {
   "codemirror_mode": {
    "name": "ipython",
    "version": 3
   },
   "file_extension": ".py",
   "mimetype": "text/x-python",
   "name": "python",
   "nbconvert_exporter": "python",
   "pygments_lexer": "ipython3",
   "version": "3.11.5"
  },
  "orig_nbformat": 4,
  "polyglot_notebook": {
   "kernelInfo": {
    "defaultKernelName": "csharp",
    "items": [
     {
      "aliases": [],
      "name": "csharp"
     }
    ]
   }
  }
 },
 "nbformat": 4,
 "nbformat_minor": 2
}
